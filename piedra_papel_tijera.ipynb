{
  "nbformat": 4,
  "nbformat_minor": 0,
  "metadata": {
    "colab": {
      "provenance": [],
      "include_colab_link": true
    },
    "kernelspec": {
      "name": "python3",
      "display_name": "Python 3"
    },
    "language_info": {
      "name": "python"
    }
  },
  "cells": [
    {
      "cell_type": "markdown",
      "metadata": {
        "id": "view-in-github",
        "colab_type": "text"
      },
      "source": [
        "<a href=\"https://colab.research.google.com/github/dakar123/dakar123/blob/main/piedra_papel_tijera.ipynb\" target=\"_parent\"><img src=\"https://colab.research.google.com/assets/colab-badge.svg\" alt=\"Open In Colab\"/></a>"
      ]
    },
    {
      "cell_type": "markdown",
      "source": [
        "Importacion cod 01\n"
      ],
      "metadata": {
        "id": "OmVgWavzwWIi"
      }
    },
    {
      "cell_type": "code",
      "execution_count": 2,
      "metadata": {
        "id": "ehtaGVfTNuYF"
      },
      "outputs": [],
      "source": [
        "import kagglehub, shutil, os\n",
        "import tensorflow as tf\n",
        "from tensorflow.keras.preprocessing.image import ImageDataGenerator\n",
        "import os\n",
        "import numpy as np\n",
        "from tensorflow.keras.preprocessing import image\n",
        "import ipywidgets as widgets\n",
        "from IPython.display import display, Image\n",
        "import time\n",
        "import threading\n",
        "import random\n",
        "from google.colab.output import eval_js\n",
        "from base64 import b64decode\n",
        "from tensorflow.keras.models import Sequential\n",
        "from tensorflow.keras.layers import Conv2D, MaxPooling2D, Flatten, Dense\n",
        "from IPython.display import Javascript\n",
        "from PIL import Image\n",
        "import io\n",
        "from IPython.display import Image as DisplayImage\n",
        "from PIL import Image as PILImage\n",
        "choice_to_spanish = {'rock': 'Piedra ✊', 'paper': 'Papel ✋', 'scissors': 'Tijera ✌️'}\n"
      ]
    },
    {
      "cell_type": "markdown",
      "source": [
        "cod 02"
      ],
      "metadata": {
        "id": "O7I2ToWAwgqn"
      }
    },
    {
      "cell_type": "code",
      "source": [
        "\n",
        "# Descargar dataset (queda en caché de KaggleHub)\n",
        "path = kagglehub.dataset_download(\"glushko/rock-paper-scissors-dataset\")\n",
        "\n",
        "print(\"Descargado en:\", path)\n",
        "\n",
        "# Carpeta destino en tu Drive o en /content\n",
        "dest = \"/content/DATOS\"\n",
        "\n",
        "# Crear carpeta si no existe\n",
        "os.makedirs(dest, exist_ok=True)\n",
        "\n",
        "# Copiar todo el dataset allí\n",
        "shutil.copytree(path, dest, dirs_exist_ok=True)\n"
      ],
      "metadata": {
        "id": "Y2aa5bjMOIx9",
        "colab": {
          "base_uri": "https://localhost:8080/",
          "height": 53
        },
        "outputId": "fa8c673f-7786-430e-df95-3b798a5384de"
      },
      "execution_count": 3,
      "outputs": [
        {
          "output_type": "stream",
          "name": "stdout",
          "text": [
            "Descargado en: /kaggle/input/rock-paper-scissors-dataset\n"
          ]
        },
        {
          "output_type": "execute_result",
          "data": {
            "text/plain": [
              "'/content/DATOS'"
            ],
            "application/vnd.google.colaboratory.intrinsic+json": {
              "type": "string"
            }
          },
          "metadata": {},
          "execution_count": 3
        }
      ]
    },
    {
      "cell_type": "markdown",
      "source": [
        "cod 03"
      ],
      "metadata": {
        "id": "7hXoeQjpwjoI"
      }
    },
    {
      "cell_type": "code",
      "source": [
        "\n",
        "base_dir = '/content/DATOS'\n",
        "train_dir = os.path.join(base_dir, 'train')\n",
        "validation_dir = os.path.join(base_dir, 'val')\n",
        "test_dir = os.path.join(base_dir, 'test')"
      ],
      "metadata": {
        "id": "OLcATDlEOVIW"
      },
      "execution_count": 4,
      "outputs": []
    },
    {
      "cell_type": "markdown",
      "source": [
        "cod 04"
      ],
      "metadata": {
        "id": "jGWxXOFqwly4"
      }
    },
    {
      "cell_type": "code",
      "source": [
        "train_datagen = ImageDataGenerator(rescale=1./255)\n",
        "validation_datagen = ImageDataGenerator(rescale=1./255)\n",
        "test_datagen = ImageDataGenerator(rescale=1./255)"
      ],
      "metadata": {
        "id": "FveHRzj8OY9n"
      },
      "execution_count": 5,
      "outputs": []
    },
    {
      "cell_type": "markdown",
      "source": [
        "cod 05"
      ],
      "metadata": {
        "id": "T0ypDA-8woiG"
      }
    },
    {
      "cell_type": "code",
      "source": [
        "train_generator = train_datagen.flow_from_directory(\n",
        "    train_dir,\n",
        "    target_size=(150, 150),\n",
        "    batch_size=32,\n",
        "    class_mode='categorical')\n",
        "\n",
        "validation_generator = validation_datagen.flow_from_directory(\n",
        "    validation_dir,\n",
        "    target_size=(150, 150),\n",
        "    batch_size=32,\n",
        "    class_mode='categorical')\n",
        "\n",
        "test_generator = test_datagen.flow_from_directory(\n",
        "    test_dir,\n",
        "    target_size=(150, 150),\n",
        "    batch_size=32,\n",
        "    class_mode='categorical')"
      ],
      "metadata": {
        "id": "BljKt3TsOiPh",
        "colab": {
          "base_uri": "https://localhost:8080/"
        },
        "outputId": "454325ad-3d1e-4f23-a68d-a0690e325568"
      },
      "execution_count": 6,
      "outputs": [
        {
          "output_type": "stream",
          "name": "stdout",
          "text": [
            "Found 1020 images belonging to 3 classes.\n",
            "Found 804 images belonging to 3 classes.\n",
            "Found 540 images belonging to 3 classes.\n"
          ]
        }
      ]
    },
    {
      "cell_type": "markdown",
      "source": [
        "cod 06"
      ],
      "metadata": {
        "id": "WJpPp0UMwsev"
      }
    },
    {
      "cell_type": "code",
      "source": [
        "model = Sequential([\n",
        "    Conv2D(64, (3, 3), activation='relu', input_shape=(150, 150, 3)),\n",
        "    MaxPooling2D(2, 2),\n",
        "    Conv2D(64, (3, 3), activation='relu'),\n",
        "    MaxPooling2D(2, 2),\n",
        "    Conv2D(128, (3, 3), activation='relu'),\n",
        "    MaxPooling2D(2, 2),\n",
        "     Conv2D(128, (3, 3), activation='relu'),\n",
        "    MaxPooling2D(2, 2),\n",
        "     Conv2D(32, (3, 3), activation='relu'),\n",
        "    MaxPooling2D(2, 2),\n",
        "    Flatten(),\n",
        "    Dense(512, activation='relu'),\n",
        "    Dense(3, activation='softmax')\n",
        "])"
      ],
      "metadata": {
        "id": "57IY09euOn8S",
        "colab": {
          "base_uri": "https://localhost:8080/"
        },
        "outputId": "3249cbd5-2efe-468b-d039-41b6e0f2d1c7"
      },
      "execution_count": 7,
      "outputs": [
        {
          "output_type": "stream",
          "name": "stderr",
          "text": [
            "/usr/local/lib/python3.12/dist-packages/keras/src/layers/convolutional/base_conv.py:113: UserWarning: Do not pass an `input_shape`/`input_dim` argument to a layer. When using Sequential models, prefer using an `Input(shape)` object as the first layer in the model instead.\n",
            "  super().__init__(activity_regularizer=activity_regularizer, **kwargs)\n"
          ]
        }
      ]
    },
    {
      "cell_type": "markdown",
      "source": [
        "cod 07"
      ],
      "metadata": {
        "id": "6Shegk5pwvVq"
      }
    },
    {
      "cell_type": "code",
      "source": [
        "model.compile(optimizer='adam',\n",
        "              loss='categorical_crossentropy',\n",
        "              metrics=['accuracy'])"
      ],
      "metadata": {
        "id": "GRo2Zbh3O29V"
      },
      "execution_count": 8,
      "outputs": []
    },
    {
      "cell_type": "markdown",
      "source": [
        "cod 08"
      ],
      "metadata": {
        "id": "m-i9PmWCwx0G"
      }
    },
    {
      "cell_type": "code",
      "source": [
        "history = model.fit(\n",
        "    train_generator,\n",
        "    steps_per_epoch=train_generator.samples // train_generator.batch_size,\n",
        "    epochs=13,\n",
        "    validation_data=validation_generator,\n",
        "    validation_steps=validation_generator.samples // validation_generator.batch_size)"
      ],
      "metadata": {
        "id": "XJ8OSI1-O5pd",
        "colab": {
          "base_uri": "https://localhost:8080/"
        },
        "outputId": "59eb7cca-1525-4332-c8b7-8365e390f4a6"
      },
      "execution_count": null,
      "outputs": [
        {
          "output_type": "stream",
          "name": "stderr",
          "text": [
            "/usr/local/lib/python3.12/dist-packages/keras/src/trainers/data_adapters/py_dataset_adapter.py:121: UserWarning: Your `PyDataset` class should call `super().__init__(**kwargs)` in its constructor. `**kwargs` can include `workers`, `use_multiprocessing`, `max_queue_size`. Do not pass these arguments to `fit()`, as they will be ignored.\n",
            "  self._warn_if_super_not_called()\n"
          ]
        },
        {
          "output_type": "stream",
          "name": "stdout",
          "text": [
            "Epoch 1/13\n",
            "\u001b[1m31/31\u001b[0m \u001b[32m━━━━━━━━━━━━━━━━━━━━\u001b[0m\u001b[37m\u001b[0m \u001b[1m118s\u001b[0m 4s/step - accuracy: 0.3593 - loss: 1.0985 - val_accuracy: 0.3338 - val_loss: 1.0960\n",
            "Epoch 2/13\n",
            "\u001b[1m 1/31\u001b[0m \u001b[37m━━━━━━━━━━━━━━━━━━━━\u001b[0m \u001b[1m1:07\u001b[0m 2s/step - accuracy: 0.2188 - loss: 1.1326"
          ]
        },
        {
          "output_type": "stream",
          "name": "stderr",
          "text": [
            "/usr/local/lib/python3.12/dist-packages/keras/src/trainers/epoch_iterator.py:116: UserWarning: Your input ran out of data; interrupting training. Make sure that your dataset or generator can generate at least `steps_per_epoch * epochs` batches. You may need to use the `.repeat()` function when building your dataset.\n",
            "  self._interrupted_warning()\n"
          ]
        }
      ]
    },
    {
      "cell_type": "markdown",
      "source": [
        "cod 09"
      ],
      "metadata": {
        "id": "66njU1-jw7Og"
      }
    },
    {
      "cell_type": "code",
      "source": [
        "def determine_winner(player_choice, computer_choice):\n",
        "    \"\"\"\n",
        "    Determina el ganador con manejo de casos especiales.\n",
        "    \"\"\"\n",
        "    # Normalizar las elecciones\n",
        "    player_choice = player_choice.lower()\n",
        "    computer_choice = computer_choice.lower()\n",
        "\n",
        "    # Manejamos el caso donde la predicción falla\n",
        "    if player_choice == \"unknown\" or player_choice == \"error\":\n",
        "        return \"invalid\"\n",
        "\n",
        "    if player_choice == computer_choice:\n",
        "        return 'tie'\n",
        "    elif (player_choice == 'rock' and computer_choice == 'scissors') or \\\n",
        "         (player_choice == 'paper' and computer_choice == 'rock') or \\\n",
        "         (player_choice == 'scissors' and computer_choice == 'paper'):\n",
        "        return 'win'\n",
        "    else:\n",
        "        return 'lose'"
      ],
      "metadata": {
        "id": "uxrbJ5o9O_Fk"
      },
      "execution_count": null,
      "outputs": []
    },
    {
      "cell_type": "markdown",
      "source": [
        "cod 10"
      ],
      "metadata": {
        "id": "xwAn-fnAw_nu"
      }
    },
    {
      "cell_type": "code",
      "source": [
        "loss, accuracy = model.evaluate(test_generator)\n",
        "print(f\"Pérdida en prueba: {loss:.4f}\")\n",
        "print(f\"Precisión en prueba: {accuracy:.4f}\")"
      ],
      "metadata": {
        "id": "oNCihv2rPBfH"
      },
      "execution_count": null,
      "outputs": []
    },
    {
      "cell_type": "code",
      "source": [
        "import matplotlib.pyplot as plt\n",
        "\n",
        "# Graficar accuracy y loss\n",
        "acc = history.history['accuracy']\n",
        "val_acc = history.history['val_accuracy']\n",
        "loss = history.history['loss']\n",
        "val_loss = history.history['val_loss']\n",
        "\n",
        "epochs = range(1, len(acc) + 1)\n",
        "\n",
        "plt.figure(figsize=(12,5))\n",
        "\n",
        "# Accuracy\n",
        "plt.subplot(1,2,1)\n",
        "plt.plot(epochs, acc, 'b-', label='Entrenamiento')\n",
        "plt.plot(epochs, val_acc, 'r-', label='Validación')\n",
        "plt.title('Precisión durante el entrenamiento')\n",
        "plt.xlabel('Épocas')\n",
        "plt.ylabel('Accuracy')\n",
        "plt.legend()\n",
        "\n",
        "# Loss\n",
        "plt.subplot(1,2,2)\n",
        "plt.plot(epochs, loss, 'b-', label='Entrenamiento')\n",
        "plt.plot(epochs, val_loss, 'r-', label='Validación')\n",
        "plt.title('Pérdida durante el entrenamiento')\n",
        "plt.xlabel('Épocas')\n",
        "plt.ylabel('Loss')\n",
        "plt.legend()\n",
        "\n",
        "plt.show()\n"
      ],
      "metadata": {
        "id": "YvtILr6h_YXp"
      },
      "execution_count": null,
      "outputs": []
    },
    {
      "cell_type": "code",
      "source": [
        "def predict_player_choice(img_path, model):\n",
        "    \"\"\"\n",
        "    Predice la elección de piedra, papel o tijera a partir de una imagen utilizando el modelo entrenado.\n",
        "\n",
        "    Args:\n",
        "        img_path (str): La ruta al archivo de imagen.\n",
        "        model (tf.keras.Model): El modelo CNN entrenado.\n",
        "\n",
        "    Returns:\n",
        "        str: La elección predicha ('rock', 'paper', or 'scissors').\n",
        "    \"\"\"\n",
        "    img = image.load_img(img_path, target_size=(150, 150))\n",
        "    img_array = image.img_to_array(img)\n",
        "    img_array = np.expand_dims(img_array, axis=0)\n",
        "    img_array /= 255.0  # Rescale the image\n",
        "\n",
        "    predictions = model.predict(img_array)\n",
        "    predicted_class_index = np.argmax(predictions)\n",
        "\n",
        "    # Asumiendo que los índices de clase están ordenados como 'paper', 'rock', 'scissors'\n",
        "    # Es posible que necesites ajustar esto según cómo tus generadores de datos ordenaron las clases\n",
        "    class_labels = ['paper', 'rock', 'scissors']\n",
        "\n",
        "    predicted_choice = class_labels[predicted_class_index]\n",
        "\n",
        "    return predicted_choice"
      ],
      "metadata": {
        "id": "Uzp7sOPfPFkE"
      },
      "execution_count": null,
      "outputs": []
    },
    {
      "cell_type": "markdown",
      "source": [
        "cod 11"
      ],
      "metadata": {
        "id": "YHCeyHXoxGU3"
      }
    },
    {
      "cell_type": "code",
      "source": [
        "def take_photo(filename='photo.jpg', quality=0.8):\n",
        "    js = Javascript('''\n",
        "    async function takePhoto(quality) {\n",
        "      const div = document.createElement('div');\n",
        "      const video = document.createElement('video');\n",
        "      div.appendChild(video);\n",
        "      document.body.appendChild(div);\n",
        "      const stream = await navigator.mediaDevices.getUserMedia({video: true});\n",
        "      video.srcObject = stream;\n",
        "      await video.play();\n",
        "      await new Promise(resolve => setTimeout(resolve, 1000));  // espera 2 seg\n",
        "      const canvas = document.createElement('canvas');\n",
        "      canvas.width = video.videoWidth;\n",
        "      canvas.height = video.videoHeight;\n",
        "      canvas.getContext('2d').drawImage(video, 0, 0);\n",
        "      stream.getTracks().forEach(track => track.stop());\n",
        "      div.remove();\n",
        "      return canvas.toDataURL('image/jpeg', quality);\n",
        "    }\n",
        "    ''')\n",
        "    display(js)\n",
        "    data = eval_js('takePhoto({})'.format(quality))\n",
        "    binary = b64decode(data.split(',')[1])\n",
        "    with open(filename, 'wb') as f:\n",
        "        f.write(binary)\n",
        "    # Justo antes de return filename\n",
        "    try:\n",
        "        img = PILImage.open(filename)\n",
        "        img.verify()  # Verifica que la imagen sea válida\n",
        "        print(\"✅ Imagen válida capturada.\")\n",
        "    except Exception as e:\n",
        "        print(f\"❌ Error al verificar imagen: {e}\")\n",
        "\n",
        "    return filename\n",
        "\n"
      ],
      "metadata": {
        "id": "kKjePcG_PXwO"
      },
      "execution_count": null,
      "outputs": []
    },
    {
      "cell_type": "markdown",
      "source": [
        "cod 12"
      ],
      "metadata": {
        "id": "vv0sJZ4ixIQE"
      }
    },
    {
      "cell_type": "code",
      "source": [
        "# Reemplaza el código actual de la interfaz con este mejorado\n",
        "output = widgets.Output()\n",
        "\n",
        "# Crear botones con estilo mejorado\n",
        "play_button = widgets.Button(\n",
        "    description=\"🎮 Jugar\",\n",
        "    button_style='success',\n",
        "    icon='gamepad'\n",
        ")\n",
        "stats_button = widgets.Button(\n",
        "    description=\"📊 Estadísticas\",\n",
        "    button_style='info',\n",
        "    icon='bar-chart'\n",
        ")\n",
        "exit_button = widgets.Button(\n",
        "    description=\"🚪 Salir\",\n",
        "    button_style='danger',\n",
        "    icon='sign-out'\n",
        ")\n",
        "\n",
        "# Botón para nuevo juego\n",
        "new_game_button = widgets.Button(\n",
        "    description=\"🔄 Nuevo Juego\",\n",
        "    button_style='warning',\n",
        "    icon='refresh'\n",
        ")\n",
        "new_game_button.layout.display = 'none'  # Oculto al inicio\n",
        "\n",
        "# Crear un indicador de progreso para la cuenta regresiva\n",
        "countdown_progress = widgets.IntProgress(\n",
        "    value=5,\n",
        "    min=0,\n",
        "    max=5,\n",
        "    description='Tiempo:',\n",
        "    bar_style='warning',\n",
        "    style={'bar_color': 'orange'}\n",
        ")\n",
        "\n",
        "# Etiquetas mejoradas\n",
        "game_info_label = widgets.HTML(value=\"<h3>¡Bienvenido a Piedra, Papel o Tijera!</h3>\")\n",
        "result_label = widgets.HTML(value=\"\")\n",
        "stats_label = widgets.HTML(value=\"\")\n",
        "\n",
        "# Área para mostrar la imagen capturada\n",
        "image_display = widgets.Output()\n",
        "\n",
        "player_wins = 0\n",
        "player_losses = 0\n",
        "player_ties = 0\n",
        "\n",
        "def countdown_and_capture(b=None):\n",
        "    global player_wins, player_losses, player_ties\n",
        "\n",
        "    game_info_label.value = \"\"\"\n",
        "    <h4>¡Prepárate! Coloca tu mano mostrando claramente:</h4>\n",
        "    <ul>\n",
        "      <li>✊ Piedra</li>\n",
        "      <li>✋ Papel</li>\n",
        "      <li>✌️ Tijera</li>\n",
        "    </ul>\n",
        "    \"\"\"\n",
        "\n",
        "    for i in range(5, 0, -1):\n",
        "        countdown_progress.value = i\n",
        "        time.sleep(1)\n",
        "\n",
        "    try:\n",
        "        # Capturar foto\n",
        "        photo_path = take_photo()\n",
        "\n",
        "        with image_display:\n",
        "            image_display.clear_output()\n",
        "            display(DisplayImage(filename=photo_path))\n",
        "\n",
        "        if 'model' in globals():\n",
        "            player_choice = predict_player_choice(photo_path, model)\n",
        "            computer_choice = random.choice(['rock', 'paper', 'scissors'])\n",
        "\n",
        "            choice_to_emoji = {'rock': '✊', 'paper': '✋', 'scissors': '✌️'}\n",
        "\n",
        "            result = determine_winner(player_choice, computer_choice)\n",
        "\n",
        "            if result == 'win':\n",
        "                player_wins += 1\n",
        "                result_color = \"green\"\n",
        "            elif result == 'lose':\n",
        "                player_losses += 1\n",
        "                result_color = \"red\"\n",
        "            else:\n",
        "                player_ties += 1\n",
        "                result_color = \"blue\"\n",
        "\n",
        "            result_label.value = f\"\"\"\n",
        "            <div style='border: 2px solid {result_color}; padding: 10px; border-radius: 10px;'>\n",
        "                <h3 style='color: {result_color};'>Resultado: {result.upper()}</h3>\n",
        "                <p><b>Tú:</b> {choice_to_emoji[player_choice]} {player_choice}</p>\n",
        "                <p><b>Computadora:</b> {choice_to_emoji[computer_choice]} {computer_choice}</p>\n",
        "            </div>\n",
        "            \"\"\"\n",
        "        else:\n",
        "            result_label.value = \"<p style='color: red;'>Error: Modelo no cargado correctamente</p>\"\n",
        "\n",
        "    except Exception as err:\n",
        "        result_label.value = f\"<p style='color: red;'>Error: {err}</p>\"\n",
        "\n",
        "    countdown_progress.value = 5\n",
        "\n",
        "# Conectar directamente el botón sin threading\n",
        "play_button.on_click(countdown_and_capture)\n",
        "new_game_button.layout.display = ''  # Mostrar el botón\n",
        "\n",
        "\n",
        "\n",
        "def on_play_button_clicked(b):\n",
        "    with output:\n",
        "        output.clear_output()\n",
        "        countdown_and_capture()\n",
        "\n",
        "def on_stats_button_clicked(b):\n",
        "    total_games = player_wins + player_losses + player_ties\n",
        "    win_percentage = (player_wins / total_games * 100) if total_games > 0 else 0\n",
        "\n",
        "    stats_label.value = f\"\"\"\n",
        "    <div style='background-color: #f0f0f0; padding: 10px; border-radius: 10px;'>\n",
        "        <h3>Estadísticas del Juego</h3>\n",
        "        <p>✅ Ganadas: {player_wins}</p>\n",
        "        <p>❌ Perdidas: {player_losses}</p>\n",
        "        <p>🤝 Empates: {player_ties}</p>\n",
        "        <p>📈 Porcentaje de victorias: {win_percentage:.1f}%</p>\n",
        "    </div>\n",
        "    \"\"\"\n",
        "\n",
        "def on_exit_button_clicked(b):\n",
        "    stats_label.value = \"<p style='color: green;'>¡Gracias por jugar! Hasta pronto.</p>\"\n",
        "    # En un entorno real, aquí podrías guardar las estadísticas\n",
        "\n",
        "# Conectar botones a funciones\n",
        "play_button.on_click(on_play_button_clicked)\n",
        "stats_button.on_click(on_stats_button_clicked)\n",
        "exit_button.on_click(on_exit_button_clicked)\n",
        "\n",
        "# Organizar la interfaz con paneles\n",
        "button_box = widgets.HBox([play_button, stats_button, exit_button], layout=widgets.Layout(justify_content='center'))\n",
        "game_panel = widgets.VBox([\n",
        "    game_info_label,\n",
        "    countdown_progress,\n",
        "    button_box,\n",
        "    image_display,\n",
        "    result_label,\n",
        "    stats_label\n",
        "], layout=widgets.Layout(align_items='center'))\n",
        "\n",
        "def on_new_game_clicked(b):\n",
        "    result_label.value = \"\"\n",
        "    game_info_label.value = \"<h3>¡Bienvenido a Piedra, Papel o Tijera!</h3>\"\n",
        "    image_display.clear_output()\n",
        "    countdown_progress.value = 5\n",
        "    new_game_button.layout.display = 'none'\n",
        "\n",
        "new_game_button.on_click(on_new_game_clicked)\n",
        "\n",
        "game_panel = widgets.VBox([\n",
        "    game_info_label,\n",
        "    countdown_progress,\n",
        "    button_box,\n",
        "    image_display,\n",
        "    result_label,\n",
        "    stats_label,\n",
        "    new_game_button   # nuevo botón\n",
        "], layout=widgets.Layout(align_items='center'))\n",
        "\n"
      ],
      "metadata": {
        "id": "fJ1XnDhwPecL"
      },
      "execution_count": null,
      "outputs": []
    },
    {
      "cell_type": "markdown",
      "source": [
        "cod 13"
      ],
      "metadata": {
        "id": "T2GW3bNVxRg_"
      }
    },
    {
      "cell_type": "code",
      "source": [
        "# La función countdown_and_capture se actualizó en el paso anterior\n",
        "# para integrar la predicción del modelo y la lógica del juego.\n",
        "# Este bloque de código confirma las conexiones y muestra la UI.\n",
        "\n",
        "# Asegurarse de que el botón de jugar esté vinculado al proceso de cuenta regresiva y captura\n",
        "# Esta conexión ya se realizó en el paso de creación de la UI de la subtarea anterior,\n",
        "# pero lo reafirmamos aquí para mayor claridad en la subtarea de integración del flujo de juego.\n",
        "play_button.on_click(on_play_button_clicked)\n",
        "\n",
        "# El resto de los elementos de la UI y sus conexiones (estadísticas, salir) también provienen de\n",
        "# la subtarea anterior y se asume que son funcionales para la UI general del juego.\n",
        "\n",
        "# Mostrar la UI del juego para permitir la interacción\n",
        "\n",
        "\n",
        "# Mostrar la interfaz\n",
        "display(game_panel)\n",
        "print(\"Interfaz cargada. Haz clic en '🎮 Jugar' para comenzar.\")\n",
        "\n",
        "# El flujo del juego ahora está integrado:\n",
        "# 1. El usuario hace clic en 'Jugar'.\n",
        "# 2. Se llama a on_play_button_clicked.\n",
        "# 3. countdown_and_capture se inicia en un nuevo hilo.\n",
        "# 4. countdown_and_capture realiza la cuenta regresiva y llama a take_photo.\n",
        "# 5. take_photo captura la imagen.\n",
        "# 6. La ruta de la imagen capturada se pasa a predict_player_choice.\n",
        "# 7. predict_player_choice usa el modelo para obtener la elección predicha del jugador.\n",
        "# 8. Se genera una elección aleatoria de la computadora.\n",
        "# 9. Se llama a determine_winner con las elecciones del jugador y la computadora.\n",
        "# 10. El resultado del juego se muestra en game_info_label."
      ],
      "metadata": {
        "id": "eUuhSATDG8VM"
      },
      "execution_count": null,
      "outputs": []
    }
  ]
}